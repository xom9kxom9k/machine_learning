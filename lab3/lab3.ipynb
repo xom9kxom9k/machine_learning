{
 "cells": [
  {
   "cell_type": "code",
   "execution_count": null,
   "id": "43f84847",
   "metadata": {},
   "outputs": [],
   "source": [
    "import pandas as pd\n",
    "import numpy as np\n",
    "import matplotlib.pyplot as plt\n",
    "from sklearn.preprocessing import LabelEncoder, PolynomialFeatures\n",
    "from sklearn.linear_model import LinearRegression, Ridge, Lasso\n",
    "from sklearn.metrics import r2_score"
   ]
  },
  {
   "cell_type": "markdown",
   "id": "3a0a7bef",
   "metadata": {},
   "source": [
    " 1. Загрузка данных"
   ]
  },
  {
   "cell_type": "code",
   "execution_count": null,
   "id": "7dbe7541",
   "metadata": {},
   "outputs": [],
   "source": [
    "data = pd.read_csv(\"forestfires.csv\")\n",
    "\n",
    "# Кодируем категориальные признаки (month, day)\n",
    "for col in [\"month\", \"day\"]:\n",
    "    data[col] = LabelEncoder().fit_transform(data[col])\n",
    "\n",
    "# Формируем X и y\n",
    "X = data.drop(\"area\", axis=1).values\n",
    "y = np.log1p(data[\"area\"].values)   # лог-трансформация целевой переменной"
   ]
  },
  {
   "cell_type": "markdown",
   "id": "14129aa3",
   "metadata": {},
   "source": [
    "2. Деление на train/test"
   ]
  },
  {
   "cell_type": "code",
   "execution_count": null,
   "id": "e7997ce1",
   "metadata": {},
   "outputs": [],
   "source": [
    "def custom_train_test_split(X, y, test_size=0.3, random_state=42):\n",
    "    if random_state:\n",
    "        np.random.seed(random_state)\n",
    "    indices = np.arange(len(X))\n",
    "    np.random.shuffle(indices)\n",
    "    split = int(len(X) * (1 - test_size))\n",
    "    train_idx, test_idx = indices[:split], indices[split:]\n",
    "    return X[train_idx], X[test_idx], y[train_idx], y[test_idx]\n",
    "\n",
    "X_train, X_test, y_train, y_test = custom_train_test_split(X, y)"
   ]
  },
  {
   "cell_type": "markdown",
   "id": "25faf4a5",
   "metadata": {},
   "source": [
    "3. Линейная регрессия "
   ]
  },
  {
   "cell_type": "code",
   "execution_count": null,
   "id": "163eace4",
   "metadata": {},
   "outputs": [],
   "source": [
    "lr = LinearRegression()\n",
    "lr.fit(X_train, y_train)\n",
    "print(\"=== Линейная регрессия ===\")\n",
    "print(\"R2 (train):\", r2_score(y_train, lr.predict(X_train)))\n",
    "print(\"R2 (test) :\", r2_score(y_test, lr.predict(X_test)))\n",
    "print()"
   ]
  },
  {
   "cell_type": "markdown",
   "id": "705b9bc8",
   "metadata": {},
   "source": [
    " 4. Полиномиальная регрессия "
   ]
  },
  {
   "cell_type": "code",
   "execution_count": null,
   "id": "3e32131a",
   "metadata": {},
   "outputs": [],
   "source": [
    "train_scores, test_scores = [], []\n",
    "degrees = range(1, 6)\n",
    "\n",
    "for d in degrees:\n",
    "    poly = PolynomialFeatures(d)\n",
    "    X_train_poly = poly.fit_transform(X_train)\n",
    "    X_test_poly = poly.transform(X_test)\n",
    "    \n",
    "    model = LinearRegression()\n",
    "    model.fit(X_train_poly, y_train)\n",
    "    \n",
    "    train_scores.append(r2_score(y_train, model.predict(X_train_poly)))\n",
    "    test_scores.append(r2_score(y_test, model.predict(X_test_poly)))\n",
    "\n",
    "plt.figure(figsize=(8, 5))\n",
    "plt.plot(degrees, train_scores, marker=\"o\", label=\"Train R²\")\n",
    "plt.plot(degrees, test_scores, marker=\"s\", label=\"Test R²\")\n",
    "plt.xlabel(\"Степень полинома\")\n",
    "plt.ylabel(\"R² score\")\n",
    "plt.title(\"Полиномиальная регрессия\")\n",
    "plt.legend()\n",
    "plt.grid(True)\n",
    "plt.show()"
   ]
  },
  {
   "cell_type": "markdown",
   "id": "05228032",
   "metadata": {},
   "source": [
    "5. Регуляризация (Ridge и Lasso) "
   ]
  },
  {
   "cell_type": "code",
   "execution_count": null,
   "id": "28b82b4d",
   "metadata": {},
   "outputs": [],
   "source": [
    "alphas = [0.01, 0.1, 1, 10, 100,1000,10000,1000000]\n",
    "\n",
    "# Ridge\n",
    "ridge_train, ridge_test = [], []\n",
    "for a in alphas:\n",
    "    ridge = Ridge(alpha=a)\n",
    "    ridge.fit(X_train, y_train)\n",
    "    ridge_train.append(r2_score(y_train, ridge.predict(X_train)))\n",
    "    ridge_test.append(r2_score(y_test, ridge.predict(X_test)))\n",
    "\n",
    "plt.figure(figsize=(8, 5))\n",
    "plt.plot(alphas, ridge_train, marker=\"o\", label=\"Train R² (Ridge)\")\n",
    "plt.plot(alphas, ridge_test, marker=\"s\", label=\"Test R² (Ridge)\")\n",
    "plt.xscale(\"log\")\n",
    "plt.xlabel(\"Alpha\")\n",
    "plt.ylabel(\"R² score\")\n",
    "plt.title(\"Ridge регрессия\")\n",
    "plt.legend()\n",
    "plt.grid(True)\n",
    "plt.show()\n",
    "\n",
    "# Lasso\n",
    "lasso_train, lasso_test = [], []\n",
    "for a in alphas:\n",
    "    lasso = Lasso(alpha=a, max_iter=5000)\n",
    "    lasso.fit(X_train, y_train)\n",
    "    lasso_train.append(r2_score(y_train, lasso.predict(X_train)))\n",
    "    lasso_test.append(r2_score(y_test, lasso.predict(X_test)))\n",
    "\n",
    "plt.figure(figsize=(8, 5))\n",
    "plt.plot(alphas, lasso_train, marker=\"o\", label=\"Train R² (Lasso)\")\n",
    "plt.plot(alphas, lasso_test, marker=\"s\", label=\"Test R² (Lasso)\")\n",
    "plt.xscale(\"log\")\n",
    "plt.xlabel(\"Alpha\")\n",
    "plt.ylabel(\"R² score\")\n",
    "plt.title(\"Lasso регрессия\")\n",
    "plt.legend()\n",
    "plt.grid(True)\n",
    "plt.show()\n"
   ]
  }
 ],
 "metadata": {
  "kernelspec": {
   "display_name": ".venv",
   "language": "python",
   "name": "python3"
  },
  "language_info": {
   "codemirror_mode": {
    "name": "ipython",
    "version": 3
   },
   "file_extension": ".py",
   "mimetype": "text/x-python",
   "name": "python",
   "nbconvert_exporter": "python",
   "pygments_lexer": "ipython3",
   "version": "3.11.4"
  }
 },
 "nbformat": 4,
 "nbformat_minor": 5
}
